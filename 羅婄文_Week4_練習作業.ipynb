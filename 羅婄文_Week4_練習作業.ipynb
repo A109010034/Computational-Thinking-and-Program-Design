{
  "nbformat": 4,
  "nbformat_minor": 0,
  "metadata": {
    "colab": {
      "name": "羅婄文-Week4-練習作業.ipynb",
      "provenance": [],
      "authorship_tag": "ABX9TyPxtXUgcliOfMlskpJkhTYe",
      "include_colab_link": true
    },
    "kernelspec": {
      "name": "python3",
      "display_name": "Python 3"
    }
  },
  "cells": [
    {
      "cell_type": "markdown",
      "metadata": {
        "id": "view-in-github",
        "colab_type": "text"
      },
      "source": [
        "<a href=\"https://colab.research.google.com/github/A109010034/Computational-Thinking-and-Program-Design/blob/main/%E7%BE%85%E5%A9%84%E6%96%87_Week4_%E7%B7%B4%E7%BF%92%E4%BD%9C%E6%A5%AD.ipynb\" target=\"_parent\"><img src=\"https://colab.research.google.com/assets/colab-badge.svg\" alt=\"Open In Colab\"/></a>"
      ]
    },
    {
      "cell_type": "markdown",
      "metadata": {
        "id": "W0o7F2C3WrMJ"
      },
      "source": [
        "#隨堂練習\n"
      ]
    },
    {
      "cell_type": "markdown",
      "metadata": {
        "id": "WJxcfl7qWwnf"
      },
      "source": [
        "#課後練習\n",
        "從一則新聞報導，提出你對新聞系（OO系）學生為什麼要學「運算思維與程式設計」的見解。（告訴我新聞連結，以及你的觀點即可。）"
      ]
    },
    {
      "cell_type": "markdown",
      "metadata": {
        "id": "h3PgyPB4W5h6"
      },
      "source": [
        "[連結文字](https://)https://money.udn.com/money/story/5612/5329623?from=edn_catenewest_story\n"
      ]
    },
    {
      "cell_type": "markdown",
      "metadata": {
        "id": "5uYkNAEjqS8T"
      },
      "source": [
        "一直說AI時代是未來的一種趨勢，不管是哪個領域未來產業都會與之結合，而現今108課綱已經對我們後來的學弟妹開始出手了，若是現在我們不學習，未來職場上會是一大劣勢，且不說能不能好好運用，若是連一點基礎都不會，未來只能在職場上等著被淘汰。\n"
      ]
    }
  ]
}