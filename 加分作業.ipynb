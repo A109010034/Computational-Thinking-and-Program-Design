{
  "nbformat": 4,
  "nbformat_minor": 0,
  "metadata": {
    "colab": {
      "name": "加分作業.ipynb",
      "provenance": [],
      "authorship_tag": "ABX9TyNW0QmkZnqPl8hzLuuWjfNg",
      "include_colab_link": true
    },
    "kernelspec": {
      "name": "python3",
      "display_name": "Python 3"
    },
    "language_info": {
      "name": "python"
    }
  },
  "cells": [
    {
      "cell_type": "markdown",
      "metadata": {
        "id": "view-in-github",
        "colab_type": "text"
      },
      "source": [
        "<a href=\"https://colab.research.google.com/github/A109010034/Computational-Thinking-and-Program-Design/blob/main/%E5%8A%A0%E5%88%86%E4%BD%9C%E6%A5%AD.ipynb\" target=\"_parent\"><img src=\"https://colab.research.google.com/assets/colab-badge.svg\" alt=\"Open In Colab\"/></a>"
      ]
    },
    {
      "cell_type": "markdown",
      "metadata": {
        "id": "CrxY6Ca-vUyy"
      },
      "source": [
        "##遊戲:棒打老虎雞吃蟲"
      ]
    },
    {
      "cell_type": "code",
      "metadata": {
        "colab": {
          "base_uri": "https://localhost:8080/"
        },
        "id": "BURhCzbFvNcQ",
        "outputId": "8d840bbe-a99d-4bed-c6bd-5f53ef9e52fd"
      },
      "source": [
        "import random\n",
        "my = int(input(\"請喊出[0]棒[1]老虎[2]雞[3]蟲\"))\n",
        "print(\"我喊出為\", my)\n",
        "\n",
        "computer = random.randint(0,3)\n",
        "print(\"電腦喊出為\", computer)\n",
        "\n",
        "if my == 0:\n",
        " if computer == 1:\n",
        "  print('玩家獲勝')\n",
        " elif computer == 3:\n",
        "  print('電腦獲勝')\n",
        " else:\n",
        "  print('平手')\n",
        "elif my == 1:\n",
        "    if computer == 2:\n",
        "     print('玩家獲勝')\n",
        "    elif computer == 0:\n",
        "     print('電腦獲勝')\n",
        "    else:\n",
        "     print('平手')\n",
        "elif my == 2:\n",
        " if computer == 3:\n",
        "  print('玩家獲勝')\n",
        " elif computer == 1:\n",
        "  print('電腦獲勝')\n",
        " else:\n",
        "  print('平手')\n",
        "elif my == 3:\n",
        " if computer == 0:\n",
        "  print('玩家獲勝')\n",
        " elif computer == 2:\n",
        "  print('電腦獲勝')\n",
        " else:\n",
        "  print('平手')"
      ],
      "execution_count": 20,
      "outputs": [
        {
          "output_type": "stream",
          "text": [
            "請喊出[0]棒[1]老虎[2]雞[3]蟲2\n",
            "我喊出為 2\n",
            "電腦喊出為 3\n",
            "玩家獲勝\n"
          ],
          "name": "stdout"
        }
      ]
    },
    {
      "cell_type": "code",
      "metadata": {
        "id": "0aTJG2MK1z9Y"
      },
      "source": [
        "\n"
      ],
      "execution_count": null,
      "outputs": []
    }
  ]
}